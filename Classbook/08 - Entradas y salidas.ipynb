{
 "cells": [
  {
   "cell_type": "markdown",
   "metadata": {},
   "source": [
    "# Entradas y salidas"
   ]
  },
  {
   "cell_type": "code",
   "execution_count": 1,
   "metadata": {},
   "outputs": [
    {
     "data": {
      "text/html": [
       "<div>\n",
       "<style scoped>\n",
       "    .dataframe tbody tr th:only-of-type {\n",
       "        vertical-align: middle;\n",
       "    }\n",
       "\n",
       "    .dataframe tbody tr th {\n",
       "        vertical-align: top;\n",
       "    }\n",
       "\n",
       "    .dataframe thead th {\n",
       "        text-align: right;\n",
       "    }\n",
       "</style>\n",
       "<table border=\"1\" class=\"dataframe\">\n",
       "  <thead>\n",
       "    <tr style=\"text-align: right;\">\n",
       "      <th></th>\n",
       "      <th>A</th>\n",
       "      <th>B</th>\n",
       "      <th>C</th>\n",
       "      <th>D</th>\n",
       "      <th>E</th>\n",
       "    </tr>\n",
       "  </thead>\n",
       "  <tbody>\n",
       "    <tr>\n",
       "      <th>0</th>\n",
       "      <td>-0.817119</td>\n",
       "      <td>1.418426</td>\n",
       "      <td>-1.043907</td>\n",
       "      <td>-0.563493</td>\n",
       "      <td>1.244673</td>\n",
       "    </tr>\n",
       "    <tr>\n",
       "      <th>1</th>\n",
       "      <td>-0.917299</td>\n",
       "      <td>-0.651981</td>\n",
       "      <td>-0.245623</td>\n",
       "      <td>-0.187452</td>\n",
       "      <td>-0.111641</td>\n",
       "    </tr>\n",
       "    <tr>\n",
       "      <th>2</th>\n",
       "      <td>1.065186</td>\n",
       "      <td>1.198658</td>\n",
       "      <td>0.401072</td>\n",
       "      <td>1.024821</td>\n",
       "      <td>0.850553</td>\n",
       "    </tr>\n",
       "    <tr>\n",
       "      <th>3</th>\n",
       "      <td>-0.583879</td>\n",
       "      <td>0.042424</td>\n",
       "      <td>1.363782</td>\n",
       "      <td>0.182395</td>\n",
       "      <td>-1.481553</td>\n",
       "    </tr>\n",
       "    <tr>\n",
       "      <th>4</th>\n",
       "      <td>0.571886</td>\n",
       "      <td>-0.214558</td>\n",
       "      <td>0.765629</td>\n",
       "      <td>-1.565940</td>\n",
       "      <td>0.825752</td>\n",
       "    </tr>\n",
       "    <tr>\n",
       "      <th>5</th>\n",
       "      <td>0.521540</td>\n",
       "      <td>-0.523970</td>\n",
       "      <td>0.628413</td>\n",
       "      <td>0.620068</td>\n",
       "      <td>-0.064265</td>\n",
       "    </tr>\n",
       "    <tr>\n",
       "      <th>6</th>\n",
       "      <td>-0.635803</td>\n",
       "      <td>0.056836</td>\n",
       "      <td>-0.138979</td>\n",
       "      <td>-0.222593</td>\n",
       "      <td>0.103398</td>\n",
       "    </tr>\n",
       "    <tr>\n",
       "      <th>7</th>\n",
       "      <td>1.068951</td>\n",
       "      <td>0.673034</td>\n",
       "      <td>-0.439908</td>\n",
       "      <td>-1.209387</td>\n",
       "      <td>0.586771</td>\n",
       "    </tr>\n",
       "    <tr>\n",
       "      <th>8</th>\n",
       "      <td>1.909397</td>\n",
       "      <td>1.341621</td>\n",
       "      <td>-0.345204</td>\n",
       "      <td>0.300596</td>\n",
       "      <td>0.986182</td>\n",
       "    </tr>\n",
       "    <tr>\n",
       "      <th>9</th>\n",
       "      <td>-0.627120</td>\n",
       "      <td>-0.869814</td>\n",
       "      <td>0.669475</td>\n",
       "      <td>0.201113</td>\n",
       "      <td>-1.254387</td>\n",
       "    </tr>\n",
       "  </tbody>\n",
       "</table>\n",
       "</div>"
      ],
      "text/plain": [
       "          A         B         C         D         E\n",
       "0 -0.817119  1.418426 -1.043907 -0.563493  1.244673\n",
       "1 -0.917299 -0.651981 -0.245623 -0.187452 -0.111641\n",
       "2  1.065186  1.198658  0.401072  1.024821  0.850553\n",
       "3 -0.583879  0.042424  1.363782  0.182395 -1.481553\n",
       "4  0.571886 -0.214558  0.765629 -1.565940  0.825752\n",
       "5  0.521540 -0.523970  0.628413  0.620068 -0.064265\n",
       "6 -0.635803  0.056836 -0.138979 -0.222593  0.103398\n",
       "7  1.068951  0.673034 -0.439908 -1.209387  0.586771\n",
       "8  1.909397  1.341621 -0.345204  0.300596  0.986182\n",
       "9 -0.627120 -0.869814  0.669475  0.201113 -1.254387"
      ]
     },
     "execution_count": 1,
     "metadata": {},
     "output_type": "execute_result"
    }
   ],
   "source": [
    "import numpy as np\n",
    "import pandas as pd\n",
    "\n",
    "# Definimos un dataframe con datos de ejemplos\n",
    "df = pd.DataFrame(np.random.randn(10, 5), columns=[\"A\", \"B\", \"C\", \"D\", \"E\"])\n",
    "\n",
    "df"
   ]
  },
  {
   "cell_type": "markdown",
   "metadata": {},
   "source": [
    "## CSV\n",
    "\n",
    "### Guardar a CSV"
   ]
  },
  {
   "cell_type": "code",
   "execution_count": 2,
   "metadata": {},
   "outputs": [],
   "source": [
    "df.to_csv('datos.csv', index=False)"
   ]
  },
  {
   "cell_type": "code",
   "execution_count": 3,
   "metadata": {},
   "outputs": [],
   "source": [
    "# Borramos el df de la memoria\n",
    "del(df)"
   ]
  },
  {
   "cell_type": "markdown",
   "metadata": {},
   "source": [
    "### Cargar desde CSV"
   ]
  },
  {
   "cell_type": "code",
   "execution_count": 4,
   "metadata": {},
   "outputs": [
    {
     "data": {
      "text/html": [
       "<div>\n",
       "<style scoped>\n",
       "    .dataframe tbody tr th:only-of-type {\n",
       "        vertical-align: middle;\n",
       "    }\n",
       "\n",
       "    .dataframe tbody tr th {\n",
       "        vertical-align: top;\n",
       "    }\n",
       "\n",
       "    .dataframe thead th {\n",
       "        text-align: right;\n",
       "    }\n",
       "</style>\n",
       "<table border=\"1\" class=\"dataframe\">\n",
       "  <thead>\n",
       "    <tr style=\"text-align: right;\">\n",
       "      <th></th>\n",
       "      <th>A</th>\n",
       "      <th>B</th>\n",
       "      <th>C</th>\n",
       "      <th>D</th>\n",
       "      <th>E</th>\n",
       "    </tr>\n",
       "  </thead>\n",
       "  <tbody>\n",
       "    <tr>\n",
       "      <th>0</th>\n",
       "      <td>-0.817119</td>\n",
       "      <td>1.418426</td>\n",
       "      <td>-1.043907</td>\n",
       "      <td>-0.563493</td>\n",
       "      <td>1.244673</td>\n",
       "    </tr>\n",
       "    <tr>\n",
       "      <th>1</th>\n",
       "      <td>-0.917299</td>\n",
       "      <td>-0.651981</td>\n",
       "      <td>-0.245623</td>\n",
       "      <td>-0.187452</td>\n",
       "      <td>-0.111641</td>\n",
       "    </tr>\n",
       "    <tr>\n",
       "      <th>2</th>\n",
       "      <td>1.065186</td>\n",
       "      <td>1.198658</td>\n",
       "      <td>0.401072</td>\n",
       "      <td>1.024821</td>\n",
       "      <td>0.850553</td>\n",
       "    </tr>\n",
       "    <tr>\n",
       "      <th>3</th>\n",
       "      <td>-0.583879</td>\n",
       "      <td>0.042424</td>\n",
       "      <td>1.363782</td>\n",
       "      <td>0.182395</td>\n",
       "      <td>-1.481553</td>\n",
       "    </tr>\n",
       "    <tr>\n",
       "      <th>4</th>\n",
       "      <td>0.571886</td>\n",
       "      <td>-0.214558</td>\n",
       "      <td>0.765629</td>\n",
       "      <td>-1.565940</td>\n",
       "      <td>0.825752</td>\n",
       "    </tr>\n",
       "    <tr>\n",
       "      <th>5</th>\n",
       "      <td>0.521540</td>\n",
       "      <td>-0.523970</td>\n",
       "      <td>0.628413</td>\n",
       "      <td>0.620068</td>\n",
       "      <td>-0.064265</td>\n",
       "    </tr>\n",
       "    <tr>\n",
       "      <th>6</th>\n",
       "      <td>-0.635803</td>\n",
       "      <td>0.056836</td>\n",
       "      <td>-0.138979</td>\n",
       "      <td>-0.222593</td>\n",
       "      <td>0.103398</td>\n",
       "    </tr>\n",
       "    <tr>\n",
       "      <th>7</th>\n",
       "      <td>1.068951</td>\n",
       "      <td>0.673034</td>\n",
       "      <td>-0.439908</td>\n",
       "      <td>-1.209387</td>\n",
       "      <td>0.586771</td>\n",
       "    </tr>\n",
       "    <tr>\n",
       "      <th>8</th>\n",
       "      <td>1.909397</td>\n",
       "      <td>1.341621</td>\n",
       "      <td>-0.345204</td>\n",
       "      <td>0.300596</td>\n",
       "      <td>0.986182</td>\n",
       "    </tr>\n",
       "    <tr>\n",
       "      <th>9</th>\n",
       "      <td>-0.627120</td>\n",
       "      <td>-0.869814</td>\n",
       "      <td>0.669475</td>\n",
       "      <td>0.201113</td>\n",
       "      <td>-1.254387</td>\n",
       "    </tr>\n",
       "  </tbody>\n",
       "</table>\n",
       "</div>"
      ],
      "text/plain": [
       "          A         B         C         D         E\n",
       "0 -0.817119  1.418426 -1.043907 -0.563493  1.244673\n",
       "1 -0.917299 -0.651981 -0.245623 -0.187452 -0.111641\n",
       "2  1.065186  1.198658  0.401072  1.024821  0.850553\n",
       "3 -0.583879  0.042424  1.363782  0.182395 -1.481553\n",
       "4  0.571886 -0.214558  0.765629 -1.565940  0.825752\n",
       "5  0.521540 -0.523970  0.628413  0.620068 -0.064265\n",
       "6 -0.635803  0.056836 -0.138979 -0.222593  0.103398\n",
       "7  1.068951  0.673034 -0.439908 -1.209387  0.586771\n",
       "8  1.909397  1.341621 -0.345204  0.300596  0.986182\n",
       "9 -0.627120 -0.869814  0.669475  0.201113 -1.254387"
      ]
     },
     "execution_count": 4,
     "metadata": {},
     "output_type": "execute_result"
    }
   ],
   "source": [
    "df = pd.read_csv('datos.csv')\n",
    "\n",
    "df"
   ]
  },
  {
   "cell_type": "markdown",
   "metadata": {},
   "source": [
    "## JSON\n",
    "\n",
    "### Guardar a JSON"
   ]
  },
  {
   "cell_type": "code",
   "execution_count": 5,
   "metadata": {},
   "outputs": [],
   "source": [
    "df.to_json('datos.json')"
   ]
  },
  {
   "cell_type": "code",
   "execution_count": 6,
   "metadata": {},
   "outputs": [],
   "source": [
    "# Borramos el df de la memoria\n",
    "del(df)"
   ]
  },
  {
   "cell_type": "markdown",
   "metadata": {},
   "source": [
    "### Cargar desde JSON"
   ]
  },
  {
   "cell_type": "code",
   "execution_count": 7,
   "metadata": {},
   "outputs": [
    {
     "data": {
      "text/html": [
       "<div>\n",
       "<style scoped>\n",
       "    .dataframe tbody tr th:only-of-type {\n",
       "        vertical-align: middle;\n",
       "    }\n",
       "\n",
       "    .dataframe tbody tr th {\n",
       "        vertical-align: top;\n",
       "    }\n",
       "\n",
       "    .dataframe thead th {\n",
       "        text-align: right;\n",
       "    }\n",
       "</style>\n",
       "<table border=\"1\" class=\"dataframe\">\n",
       "  <thead>\n",
       "    <tr style=\"text-align: right;\">\n",
       "      <th></th>\n",
       "      <th>A</th>\n",
       "      <th>B</th>\n",
       "      <th>C</th>\n",
       "      <th>D</th>\n",
       "      <th>E</th>\n",
       "    </tr>\n",
       "  </thead>\n",
       "  <tbody>\n",
       "    <tr>\n",
       "      <th>0</th>\n",
       "      <td>-0.817119</td>\n",
       "      <td>1.418426</td>\n",
       "      <td>-1.043907</td>\n",
       "      <td>-0.563493</td>\n",
       "      <td>1.244673</td>\n",
       "    </tr>\n",
       "    <tr>\n",
       "      <th>1</th>\n",
       "      <td>-0.917299</td>\n",
       "      <td>-0.651981</td>\n",
       "      <td>-0.245623</td>\n",
       "      <td>-0.187452</td>\n",
       "      <td>-0.111641</td>\n",
       "    </tr>\n",
       "    <tr>\n",
       "      <th>2</th>\n",
       "      <td>1.065186</td>\n",
       "      <td>1.198658</td>\n",
       "      <td>0.401072</td>\n",
       "      <td>1.024821</td>\n",
       "      <td>0.850553</td>\n",
       "    </tr>\n",
       "    <tr>\n",
       "      <th>3</th>\n",
       "      <td>-0.583879</td>\n",
       "      <td>0.042424</td>\n",
       "      <td>1.363782</td>\n",
       "      <td>0.182395</td>\n",
       "      <td>-1.481553</td>\n",
       "    </tr>\n",
       "    <tr>\n",
       "      <th>4</th>\n",
       "      <td>0.571886</td>\n",
       "      <td>-0.214558</td>\n",
       "      <td>0.765629</td>\n",
       "      <td>-1.565940</td>\n",
       "      <td>0.825752</td>\n",
       "    </tr>\n",
       "    <tr>\n",
       "      <th>5</th>\n",
       "      <td>0.521540</td>\n",
       "      <td>-0.523970</td>\n",
       "      <td>0.628413</td>\n",
       "      <td>0.620068</td>\n",
       "      <td>-0.064265</td>\n",
       "    </tr>\n",
       "    <tr>\n",
       "      <th>6</th>\n",
       "      <td>-0.635803</td>\n",
       "      <td>0.056836</td>\n",
       "      <td>-0.138979</td>\n",
       "      <td>-0.222593</td>\n",
       "      <td>0.103398</td>\n",
       "    </tr>\n",
       "    <tr>\n",
       "      <th>7</th>\n",
       "      <td>1.068951</td>\n",
       "      <td>0.673034</td>\n",
       "      <td>-0.439908</td>\n",
       "      <td>-1.209387</td>\n",
       "      <td>0.586771</td>\n",
       "    </tr>\n",
       "    <tr>\n",
       "      <th>8</th>\n",
       "      <td>1.909397</td>\n",
       "      <td>1.341621</td>\n",
       "      <td>-0.345204</td>\n",
       "      <td>0.300596</td>\n",
       "      <td>0.986182</td>\n",
       "    </tr>\n",
       "    <tr>\n",
       "      <th>9</th>\n",
       "      <td>-0.627120</td>\n",
       "      <td>-0.869814</td>\n",
       "      <td>0.669475</td>\n",
       "      <td>0.201113</td>\n",
       "      <td>-1.254387</td>\n",
       "    </tr>\n",
       "  </tbody>\n",
       "</table>\n",
       "</div>"
      ],
      "text/plain": [
       "          A         B         C         D         E\n",
       "0 -0.817119  1.418426 -1.043907 -0.563493  1.244673\n",
       "1 -0.917299 -0.651981 -0.245623 -0.187452 -0.111641\n",
       "2  1.065186  1.198658  0.401072  1.024821  0.850553\n",
       "3 -0.583879  0.042424  1.363782  0.182395 -1.481553\n",
       "4  0.571886 -0.214558  0.765629 -1.565940  0.825752\n",
       "5  0.521540 -0.523970  0.628413  0.620068 -0.064265\n",
       "6 -0.635803  0.056836 -0.138979 -0.222593  0.103398\n",
       "7  1.068951  0.673034 -0.439908 -1.209387  0.586771\n",
       "8  1.909397  1.341621 -0.345204  0.300596  0.986182\n",
       "9 -0.627120 -0.869814  0.669475  0.201113 -1.254387"
      ]
     },
     "execution_count": 7,
     "metadata": {},
     "output_type": "execute_result"
    }
   ],
   "source": [
    "df = pd.read_json('datos.json')\n",
    "\n",
    "df"
   ]
  },
  {
   "cell_type": "markdown",
   "metadata": {},
   "source": [
    "## Excel\n",
    "\n",
    "Necesitamos instalar el módulo `openpyxl` para generar y leer este formato:\n",
    "\n",
    "    pip install openpyxl"
   ]
  },
  {
   "cell_type": "code",
   "execution_count": 8,
   "metadata": {},
   "outputs": [
    {
     "name": "stdout",
     "output_type": "stream",
     "text": [
      "Collecting openpyxl\n",
      "  Downloading openpyxl-3.1.5-py2.py3-none-any.whl.metadata (2.5 kB)\n",
      "Collecting et-xmlfile (from openpyxl)\n",
      "  Downloading et_xmlfile-2.0.0-py3-none-any.whl.metadata (2.7 kB)\n",
      "Downloading openpyxl-3.1.5-py2.py3-none-any.whl (250 kB)\n",
      "Downloading et_xmlfile-2.0.0-py3-none-any.whl (18 kB)\n",
      "Installing collected packages: et-xmlfile, openpyxl\n",
      "Successfully installed et-xmlfile-2.0.0 openpyxl-3.1.5\n"
     ]
    },
    {
     "name": "stderr",
     "output_type": "stream",
     "text": [
      "\n",
      "[notice] A new release of pip is available: 24.2 -> 24.3.1\n",
      "[notice] To update, run: python.exe -m pip install --upgrade pip\n"
     ]
    }
   ],
   "source": [
    "!pip install openpyxl"
   ]
  },
  {
   "cell_type": "markdown",
   "metadata": {},
   "source": [
    "### Guardar a Excel"
   ]
  },
  {
   "cell_type": "code",
   "execution_count": 9,
   "metadata": {},
   "outputs": [],
   "source": [
    "df.to_excel('datos.xlsx', sheet_name='Sheet1', index=False)"
   ]
  },
  {
   "cell_type": "code",
   "execution_count": null,
   "metadata": {},
   "outputs": [],
   "source": [
    "# Borramos el df de la memoria\n",
    "del(df)"
   ]
  },
  {
   "cell_type": "markdown",
   "metadata": {},
   "source": [
    "### Cargar desde Excel"
   ]
  },
  {
   "cell_type": "code",
   "execution_count": null,
   "metadata": {},
   "outputs": [],
   "source": [
    "df = pd.read_excel('datos.xlsx', sheet_name='Sheet1')\n",
    "\n",
    "df"
   ]
  },
  {
   "cell_type": "markdown",
   "metadata": {},
   "source": [
    "Con `Matplotlib`, que aprenderemos en la próxima sección, podemos graficar estos resultados fácilmente:"
   ]
  },
  {
   "cell_type": "code",
   "execution_count": null,
   "metadata": {},
   "outputs": [],
   "source": [
    "import matplotlib.pyplot as plt\n",
    "plt.rcParams[\"figure.figsize\"] = 10,5\n",
    "\n",
    "fertility_rate.mean()[1:].plot(kind='line', xlabel=\"Períodos\", ylabel=\"Media de natalidad mundial\")"
   ]
  },
  {
   "cell_type": "markdown",
   "metadata": {},
   "source": [
    "La práctica hace el maestro, os animo a hacer vuestras propias pruebas y googlear cualquier cosa que se os ocurra para aprender mucho más."
   ]
  },
  {
   "cell_type": "code",
   "execution_count": null,
   "metadata": {},
   "outputs": [],
   "source": []
  }
 ],
 "metadata": {
  "kernelspec": {
   "display_name": "Python 3",
   "language": "python",
   "name": "python3"
  },
  "language_info": {
   "codemirror_mode": {
    "name": "ipython",
    "version": 3
   },
   "file_extension": ".py",
   "mimetype": "text/x-python",
   "name": "python",
   "nbconvert_exporter": "python",
   "pygments_lexer": "ipython3",
   "version": "3.12.7"
  }
 },
 "nbformat": 4,
 "nbformat_minor": 1
}
